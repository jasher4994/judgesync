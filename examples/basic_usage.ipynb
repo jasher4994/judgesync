{
 "cells": [
  {
   "cell_type": "code",
   "execution_count": 1,
   "id": "2abbaea7",
   "metadata": {},
   "outputs": [],
   "source": [
    "from judgesync import AlignmentTracker, ScoreRange\n"
   ]
  },
  {
   "cell_type": "code",
   "execution_count": 2,
   "id": "c1f25fbd",
   "metadata": {},
   "outputs": [],
   "source": [
    "tracker = AlignmentTracker(score_range=ScoreRange.FIVE_POINT)\n"
   ]
  },
  {
   "cell_type": "code",
   "execution_count": 3,
   "id": "72fa8b76",
   "metadata": {},
   "outputs": [],
   "source": [
    "tracker.load_human_scores_from_csv('/Users/jamesasher/Desktop/judgesync/examples/sample_data.csv', question_col='question', response_col='response', score_col='human_score')"
   ]
  },
  {
   "cell_type": "code",
   "execution_count": 4,
   "id": "ee9f437f",
   "metadata": {},
   "outputs": [
    {
     "name": "stdout",
     "output_type": "stream",
     "text": [
      "AlignmentTracker Summary:\n",
      "  Score Range: FIVE_POINT\n",
      "  Items Loaded: 10\n",
      "  Items with Human Scores: 10\n",
      "  Judge Configured: Yes\n",
      "  Tests Run: 1\n",
      "\n",
      "Latest Results:\n",
      "  Kappa Score: 0.595\n",
      "  Agreement Rate: 70.00%\n",
      "\n",
      "Detailed Results:\n",
      "AlignmentResults(kappa_score=0.5945945945945946, agreement_rate=0.7, sample_size=10, raw_scores=[(5.0, 5.0), (5.0, 5.0), (2.0, 2.0), (4.0, 4.0), (5.0, 5.0), (3.0, 3.0), (3.0, 3.0), (3.0, 2.0), (4.0, 3.0), (4.0, 3.0)])\n"
     ]
    }
   ],
   "source": [
    "system_prompt = \"\"\"You are an expert evaluator. Rate the quality of responses on a scale of 1-5:\n",
    "5 = Excellent, complete, and accurate\n",
    "4 = Good, mostly complete\n",
    "3 = Adequate, partially complete\n",
    "2 = Poor, incomplete or partially incorrect\n",
    "1 = Very poor, incorrect or irrelevant\n",
    "\n",
    "Consider accuracy, completeness, and clarity in your evaluation.\"\"\"\n",
    "\n",
    "tracker.set_judge(system_prompt)\n",
    "\n",
    "# Run the alignment test\n",
    "results = tracker.run_alignment_test()\n",
    "\n",
    "# Print results\n",
    "print(tracker.summary())\n",
    "print(f\"\\nDetailed Results:\\n{results}\")"
   ]
  },
  {
   "cell_type": "code",
   "execution_count": null,
   "id": "2f7dd748",
   "metadata": {},
   "outputs": [],
   "source": []
  }
 ],
 "metadata": {
  "kernelspec": {
   "display_name": "venv",
   "language": "python",
   "name": "python3"
  },
  "language_info": {
   "codemirror_mode": {
    "name": "ipython",
    "version": 3
   },
   "file_extension": ".py",
   "mimetype": "text/x-python",
   "name": "python",
   "nbconvert_exporter": "python",
   "pygments_lexer": "ipython3",
   "version": "3.12.10"
  }
 },
 "nbformat": 4,
 "nbformat_minor": 5
}
